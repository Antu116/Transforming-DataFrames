{
  "cells": [
    {
      "cell_type": "markdown",
      "metadata": {
        "id": "view-in-github",
        "colab_type": "text"
      },
      "source": [
        "<a href=\"https://colab.research.google.com/github/Antu116/Transforming-DataFrames/blob/main/Transforming_DataFrames.ipynb\" target=\"_parent\"><img src=\"https://colab.research.google.com/assets/colab-badge.svg\" alt=\"Open In Colab\"/></a>"
      ]
    },
    {
      "source": [
        "# Transforming DataFrames\n",
        "Run the hidden code cell below to import the data used in this course."
      ],
      "metadata": {
        "id": "prostate-arizona"
      },
      "id": "prostate-arizona",
      "cell_type": "markdown"
    },
    {
      "source": [
        "# Import the course packages\n",
        "import pandas as pd\n",
        "import numpy as np\n",
        "import matplotlib.pyplot as plt\n",
        "\n",
        "# Import the four datasets\n",
        "homelessness = pd.read_csv(\"/content/homelessness.csv\")"
      ],
      "metadata": {
        "scrolled": true,
        "jupyter": {
          "outputs_hidden": false,
          "source_hidden": false
        },
        "executionTime": 2540,
        "lastSuccessfullyExecutedCode": "# Import the course packages\nimport pandas as pd\nimport numpy as np\nimport matplotlib.pyplot as plt\n\n# Import the four datasets\navocado = pd.read_csv(\"datasets/avocado.csv\")\nhomelessness = pd.read_csv(\"datasets/homelessness.csv\")\ntemperatures = pd.read_csv(\"datasets/temperatures.csv\")\nwalmart = pd.read_csv(\"datasets/walmart.csv\")",
        "id": "2e25fdd8-4d84-45bc-80f0-949917e00a17"
      },
      "id": "2e25fdd8-4d84-45bc-80f0-949917e00a17",
      "cell_type": "code",
      "execution_count": 3,
      "outputs": []
    },
    {
      "source": [
        "## Inspecting a DataFrame"
      ],
      "metadata": {
        "id": "e9a448e0"
      },
      "id": "e9a448e0",
      "cell_type": "markdown"
    },
    {
      "source": [
        "When you get a new DataFrame to work with, the first thing you need to do is explore it and see what it contains. There are several useful methods and attributes for this.\n",
        "\n",
        "\n",
        ".head() returns the first few rows (the “head” of the DataFrame).\n",
        "\n",
        ".info() shows information on each of the columns, such as the data type and number of missing values.\n",
        "\n",
        ".shape returns the number of rows and columns of the DataFrame.\n",
        "\n",
        ".describe() calculates a few summary statistics for each column.\n",
        "homelessness is a DataFrame containing estimates of homelessness in each U.S. state in 2018. The individual column is the number of homeless individuals not part of a family with children. The family_members column is the number of homeless individuals part of a family with children. The state_pop column is the state's total population.\n",
        "\n",
        "\n",
        "pandas is imported for you."
      ],
      "metadata": {
        "id": "dd542986-8229-488d-8d3b-c9b0ff689a7a"
      },
      "cell_type": "markdown",
      "id": "dd542986-8229-488d-8d3b-c9b0ff689a7a"
    },
    {
      "source": [
        "# Print the head of the homelessness data\n",
        "print(homelessness.head())\n",
        "\n",
        "# Print information about homelessness\n",
        "print(homelessness.info())\n",
        "\n",
        "# Print the shape of homelessness\n",
        "print(homelessness.shape)\n",
        "\n",
        "# Print a description of homelessness\n",
        "print(homelessness.describe())"
      ],
      "metadata": {
        "executionTime": 28,
        "lastSuccessfullyExecutedCode": "# Print the head of the homelessness data\nprint(homelessness.head())\n\n# Print information about homelessness\nprint(homelessness.info())\n\n# Print the shape of homelessness\nprint(homelessness.shape)\n\n# Print a description of homelessness\nprint(homelessness.describe())",
        "colab": {
          "base_uri": "https://localhost:8080/"
        },
        "id": "893055c9",
        "outputId": "858b4412-4afe-47b6-c689-a176194c7715"
      },
      "id": "893055c9",
      "cell_type": "code",
      "execution_count": 4,
      "outputs": [
        {
          "output_type": "stream",
          "name": "stdout",
          "text": [
            "               region       state  individuals  family_members  state_pop\n",
            "0  East South Central     Alabama       2570.0           864.0    4887681\n",
            "1             Pacific      Alaska       1434.0           582.0     735139\n",
            "2            Mountain     Arizona       7259.0          2606.0    7158024\n",
            "3  West South Central    Arkansas       2280.0           432.0    3009733\n",
            "4             Pacific  California     109008.0         20964.0   39461588\n",
            "<class 'pandas.core.frame.DataFrame'>\n",
            "RangeIndex: 51 entries, 0 to 50\n",
            "Data columns (total 5 columns):\n",
            " #   Column          Non-Null Count  Dtype  \n",
            "---  ------          --------------  -----  \n",
            " 0   region          51 non-null     object \n",
            " 1   state           51 non-null     object \n",
            " 2   individuals     51 non-null     float64\n",
            " 3   family_members  51 non-null     float64\n",
            " 4   state_pop       51 non-null     int64  \n",
            "dtypes: float64(2), int64(1), object(2)\n",
            "memory usage: 2.1+ KB\n",
            "None\n",
            "(51, 5)\n",
            "         individuals  family_members     state_pop\n",
            "count      51.000000       51.000000  5.100000e+01\n",
            "mean     7225.784314     3504.882353  6.405637e+06\n",
            "std     15991.025083     7805.411811  7.327258e+06\n",
            "min       434.000000       75.000000  5.776010e+05\n",
            "25%      1446.500000      592.000000  1.777414e+06\n",
            "50%      3082.000000     1482.000000  4.461153e+06\n",
            "75%      6781.500000     3196.000000  7.340946e+06\n",
            "max    109008.000000    52070.000000  3.946159e+07\n"
          ]
        }
      ]
    },
    {
      "source": [
        "## Parts of a DataFrame"
      ],
      "metadata": {
        "id": "9ec6133b-afd9-43d3-b85e-09494bf8219f"
      },
      "cell_type": "markdown",
      "id": "9ec6133b-afd9-43d3-b85e-09494bf8219f"
    },
    {
      "source": [
        "Import pandas using the alias pd.\n",
        "\n",
        "Print a 2D NumPy array of the values in homelessness.\n",
        "\n",
        "Print the column names of homelessness.\n",
        "\n",
        "Print the index of homelessness."
      ],
      "metadata": {
        "id": "b016343c-6681-4f0b-9c43-6f134536001e"
      },
      "cell_type": "markdown",
      "id": "b016343c-6681-4f0b-9c43-6f134536001e"
    },
    {
      "source": [
        "# Import pandas using the alias pd\n",
        "import pandas as pd\n",
        "\n",
        "# Print the values of homelessness\n",
        "print(homelessness.values)\n",
        "\n",
        "# Print the column index of homelessness\n",
        "print(homelessness.columns)\n",
        "\n",
        "# Print the row index of homelessness\n",
        "print(homelessness.index)"
      ],
      "metadata": {
        "executionTime": 191,
        "lastSuccessfullyExecutedCode": "# Import pandas using the alias pd\nimport pandas as pd\n\n# Print the values of homelessness\nprint(homelessness.values)\n\n# Print the column index of homelessness\nprint(homelessness.columns)\n\n# Print the row index of homelessness\nprint(homelessness.index)",
        "colab": {
          "base_uri": "https://localhost:8080/"
        },
        "id": "e0cf3551-64a9-4db3-a76c-b09bd44f4112",
        "outputId": "4407e7d5-4ae7-415c-fa34-e529031c5a91"
      },
      "cell_type": "code",
      "id": "e0cf3551-64a9-4db3-a76c-b09bd44f4112",
      "execution_count": 5,
      "outputs": [
        {
          "output_type": "stream",
          "name": "stdout",
          "text": [
            "[['East South Central' 'Alabama' 2570.0 864.0 4887681]\n",
            " ['Pacific' 'Alaska' 1434.0 582.0 735139]\n",
            " ['Mountain' 'Arizona' 7259.0 2606.0 7158024]\n",
            " ['West South Central' 'Arkansas' 2280.0 432.0 3009733]\n",
            " ['Pacific' 'California' 109008.0 20964.0 39461588]\n",
            " ['Mountain' 'Colorado' 7607.0 3250.0 5691287]\n",
            " ['New England' 'Connecticut' 2280.0 1696.0 3571520]\n",
            " ['South Atlantic' 'Delaware' 708.0 374.0 965479]\n",
            " ['South Atlantic' 'District of Columbia' 3770.0 3134.0 701547]\n",
            " ['South Atlantic' 'Florida' 21443.0 9587.0 21244317]\n",
            " ['South Atlantic' 'Georgia' 6943.0 2556.0 10511131]\n",
            " ['Pacific' 'Hawaii' 4131.0 2399.0 1420593]\n",
            " ['Mountain' 'Idaho' 1297.0 715.0 1750536]\n",
            " ['East North Central' 'Illinois' 6752.0 3891.0 12723071]\n",
            " ['East North Central' 'Indiana' 3776.0 1482.0 6695497]\n",
            " ['West North Central' 'Iowa' 1711.0 1038.0 3148618]\n",
            " ['West North Central' 'Kansas' 1443.0 773.0 2911359]\n",
            " ['East South Central' 'Kentucky' 2735.0 953.0 4461153]\n",
            " ['West South Central' 'Louisiana' 2540.0 519.0 4659690]\n",
            " ['New England' 'Maine' 1450.0 1066.0 1339057]\n",
            " ['South Atlantic' 'Maryland' 4914.0 2230.0 6035802]\n",
            " ['New England' 'Massachusetts' 6811.0 13257.0 6882635]\n",
            " ['East North Central' 'Michigan' 5209.0 3142.0 9984072]\n",
            " ['West North Central' 'Minnesota' 3993.0 3250.0 5606249]\n",
            " ['East South Central' 'Mississippi' 1024.0 328.0 2981020]\n",
            " ['West North Central' 'Missouri' 3776.0 2107.0 6121623]\n",
            " ['Mountain' 'Montana' 983.0 422.0 1060665]\n",
            " ['West North Central' 'Nebraska' 1745.0 676.0 1925614]\n",
            " ['Mountain' 'Nevada' 7058.0 486.0 3027341]\n",
            " ['New England' 'New Hampshire' 835.0 615.0 1353465]\n",
            " ['Mid-Atlantic' 'New Jersey' 6048.0 3350.0 8886025]\n",
            " ['Mountain' 'New Mexico' 1949.0 602.0 2092741]\n",
            " ['Mid-Atlantic' 'New York' 39827.0 52070.0 19530351]\n",
            " ['South Atlantic' 'North Carolina' 6451.0 2817.0 10381615]\n",
            " ['West North Central' 'North Dakota' 467.0 75.0 758080]\n",
            " ['East North Central' 'Ohio' 6929.0 3320.0 11676341]\n",
            " ['West South Central' 'Oklahoma' 2823.0 1048.0 3940235]\n",
            " ['Pacific' 'Oregon' 11139.0 3337.0 4181886]\n",
            " ['Mid-Atlantic' 'Pennsylvania' 8163.0 5349.0 12800922]\n",
            " ['New England' 'Rhode Island' 747.0 354.0 1058287]\n",
            " ['South Atlantic' 'South Carolina' 3082.0 851.0 5084156]\n",
            " ['West North Central' 'South Dakota' 836.0 323.0 878698]\n",
            " ['East South Central' 'Tennessee' 6139.0 1744.0 6771631]\n",
            " ['West South Central' 'Texas' 19199.0 6111.0 28628666]\n",
            " ['Mountain' 'Utah' 1904.0 972.0 3153550]\n",
            " ['New England' 'Vermont' 780.0 511.0 624358]\n",
            " ['South Atlantic' 'Virginia' 3928.0 2047.0 8501286]\n",
            " ['Pacific' 'Washington' 16424.0 5880.0 7523869]\n",
            " ['South Atlantic' 'West Virginia' 1021.0 222.0 1804291]\n",
            " ['East North Central' 'Wisconsin' 2740.0 2167.0 5807406]\n",
            " ['Mountain' 'Wyoming' 434.0 205.0 577601]]\n",
            "Index(['region', 'state', 'individuals', 'family_members', 'state_pop'], dtype='object')\n",
            "RangeIndex(start=0, stop=51, step=1)\n"
          ]
        }
      ]
    },
    {
      "source": [
        "## Sorting rows"
      ],
      "metadata": {
        "id": "c9959fb8-5147-4fe4-bde6-fb45e92ddfae"
      },
      "cell_type": "markdown",
      "id": "c9959fb8-5147-4fe4-bde6-fb45e92ddfae"
    },
    {
      "source": [
        "Sort homelessness by the number of homeless individuals, from smallest to largest, and save this as homelessness_ind.\n",
        "\n",
        "Print the head of the sorted DataFrame"
      ],
      "metadata": {
        "id": "b37a73fd-6660-4b7e-9903-7770ad865e18"
      },
      "cell_type": "markdown",
      "id": "b37a73fd-6660-4b7e-9903-7770ad865e18"
    },
    {
      "source": [
        "# Sort homelessness by individuals\n",
        "homelessness_ind = homelessness.sort_values(\"individuals\")\n",
        "\n",
        "# Print the top few rows\n",
        "print(homelessness_ind.head())"
      ],
      "metadata": {
        "executionTime": 27,
        "lastSuccessfullyExecutedCode": "# Sort homelessness by individuals\nhomelessness_ind = homelessness.sort_values(\"individuals\")\n\n# Print the top few rows\nprint(homelessness_ind.head())",
        "colab": {
          "base_uri": "https://localhost:8080/"
        },
        "id": "1c719ab0-b42e-4dec-a634-9d6f6344bf13",
        "outputId": "d01acd7b-fcd5-4787-8111-3b62ec85c997"
      },
      "cell_type": "code",
      "id": "1c719ab0-b42e-4dec-a634-9d6f6344bf13",
      "execution_count": 6,
      "outputs": [
        {
          "output_type": "stream",
          "name": "stdout",
          "text": [
            "                region         state  individuals  family_members  state_pop\n",
            "50            Mountain       Wyoming        434.0           205.0     577601\n",
            "34  West North Central  North Dakota        467.0            75.0     758080\n",
            "7       South Atlantic      Delaware        708.0           374.0     965479\n",
            "39         New England  Rhode Island        747.0           354.0    1058287\n",
            "45         New England       Vermont        780.0           511.0     624358\n"
          ]
        }
      ]
    },
    {
      "source": [
        "Sort homelessness by the number of homeless family_members in descending order, and save this as homelessness_fam.\n",
        "\n",
        "Print the head of the sorted DataFrame."
      ],
      "metadata": {
        "id": "bbdfef2d-ff45-4a43-a27d-4b99e3ddba06"
      },
      "cell_type": "markdown",
      "id": "bbdfef2d-ff45-4a43-a27d-4b99e3ddba06"
    },
    {
      "source": [
        "# Sort homelessness by descending family members\n",
        "homelessness_fam = homelessness.sort_values(\"family_members\", ascending = False)\n",
        "\n",
        "# Print the top few rows\n",
        "print(homelessness_fam.head())"
      ],
      "metadata": {
        "executionTime": 223,
        "lastSuccessfullyExecutedCode": "# Sort homelessness by descending family members\nhomelessness_fam = homelessness.sort_values(\"family_members\", ascending = False)\n\n# Print the top few rows\nprint(homelessness_fam.head())",
        "colab": {
          "base_uri": "https://localhost:8080/"
        },
        "id": "d323967f-eea0-4399-b1c3-a598835c3460",
        "outputId": "56d4fd71-8989-49cf-b133-a05a210242a6"
      },
      "cell_type": "code",
      "id": "d323967f-eea0-4399-b1c3-a598835c3460",
      "execution_count": 7,
      "outputs": [
        {
          "output_type": "stream",
          "name": "stdout",
          "text": [
            "                region          state  individuals  family_members  state_pop\n",
            "32        Mid-Atlantic       New York      39827.0         52070.0   19530351\n",
            "4              Pacific     California     109008.0         20964.0   39461588\n",
            "21         New England  Massachusetts       6811.0         13257.0    6882635\n",
            "9       South Atlantic        Florida      21443.0          9587.0   21244317\n",
            "43  West South Central          Texas      19199.0          6111.0   28628666\n"
          ]
        }
      ]
    },
    {
      "source": [
        "Sort homelessness first by region (ascending), and then by number of family members (descending). Save this as homelessness_reg_fam.\n",
        "\n",
        "Print the head of the sorted DataFrame."
      ],
      "metadata": {
        "id": "a2ed740a-da73-468f-bfea-20397f128997"
      },
      "cell_type": "markdown",
      "id": "a2ed740a-da73-468f-bfea-20397f128997"
    },
    {
      "source": [
        "# Sort homelessness by region, then descending family members\n",
        "homelessness_reg_fam = homelessness.sort_values([\"region\",\"family_members\"], ascending = [True, False])\n",
        "\n",
        "# Print the top few rows\n",
        "print(homelessness_reg_fam.head())"
      ],
      "metadata": {
        "executionTime": 23,
        "lastSuccessfullyExecutedCode": "# Sort homelessness by region, then descending family members\nhomelessness_reg_fam = homelessness.sort_values([\"region\",\"family_members\"], ascending = [True, False])\n\n# Print the top few rows\nprint(homelessness_reg_fam.head())",
        "colab": {
          "base_uri": "https://localhost:8080/"
        },
        "id": "3d6e9ce8-9b59-45d0-aad8-1dde92aa0694",
        "outputId": "281b28fb-0f41-42e7-ad22-31981ae14575"
      },
      "cell_type": "code",
      "id": "3d6e9ce8-9b59-45d0-aad8-1dde92aa0694",
      "execution_count": 8,
      "outputs": [
        {
          "output_type": "stream",
          "name": "stdout",
          "text": [
            "                region      state  individuals  family_members  state_pop\n",
            "13  East North Central   Illinois       6752.0          3891.0   12723071\n",
            "35  East North Central       Ohio       6929.0          3320.0   11676341\n",
            "22  East North Central   Michigan       5209.0          3142.0    9984072\n",
            "49  East North Central  Wisconsin       2740.0          2167.0    5807406\n",
            "14  East North Central    Indiana       3776.0          1482.0    6695497\n"
          ]
        }
      ]
    },
    {
      "source": [
        "## Subsetting columns"
      ],
      "metadata": {
        "id": "f31d0abd-a80b-4d9c-a60f-d5769082c8e9"
      },
      "cell_type": "markdown",
      "id": "f31d0abd-a80b-4d9c-a60f-d5769082c8e9"
    },
    {
      "source": [
        "Create a DataFrame called individuals that contains only the individuals column of homelessness.\n",
        "\n",
        "Print the head of the result."
      ],
      "metadata": {
        "id": "2e16d73c-3419-4ff1-bcf0-5f7da2468664"
      },
      "cell_type": "markdown",
      "id": "2e16d73c-3419-4ff1-bcf0-5f7da2468664"
    },
    {
      "source": [
        "# Select the individuals column\n",
        "individuals = homelessness[\"individuals\"]\n",
        "\n",
        "# Print the head of the result\n",
        "print(individuals.head())"
      ],
      "metadata": {
        "executionTime": 26,
        "lastSuccessfullyExecutedCode": "# Select the individuals column\nindividuals = homelessness[\"individuals\"]\n\n# Print the head of the result\nprint(individuals.head())",
        "colab": {
          "base_uri": "https://localhost:8080/"
        },
        "id": "0512eba2-3753-4dd8-847d-56de95839323",
        "outputId": "0a9d0211-397f-45ee-e669-61d76f51ba10"
      },
      "cell_type": "code",
      "id": "0512eba2-3753-4dd8-847d-56de95839323",
      "execution_count": 9,
      "outputs": [
        {
          "output_type": "stream",
          "name": "stdout",
          "text": [
            "0      2570.0\n",
            "1      1434.0\n",
            "2      7259.0\n",
            "3      2280.0\n",
            "4    109008.0\n",
            "Name: individuals, dtype: float64\n"
          ]
        }
      ]
    },
    {
      "source": [
        "Create a DataFrame called state_fam that contains only the state and family_members columns of homelessness, in that order.\n",
        "\n",
        "Print the head of the result."
      ],
      "metadata": {
        "id": "e329ee1f-02ce-42be-8c8c-b8d889c94d54"
      },
      "cell_type": "markdown",
      "id": "e329ee1f-02ce-42be-8c8c-b8d889c94d54"
    },
    {
      "source": [
        "# Select the state and family_members columns\n",
        "state_fam = homelessness[[\"state\",\"family_members\"]]\n",
        "\n",
        "# Print the head of the result\n",
        "print(state_fam.head())"
      ],
      "metadata": {
        "executionTime": 22,
        "lastSuccessfullyExecutedCode": "# Select the state and family_members columns\nstate_fam = homelessness[[\"state\",\"family_members\"]]\n\n# Print the head of the result\nprint(state_fam.head())",
        "colab": {
          "base_uri": "https://localhost:8080/"
        },
        "id": "d192a012-0ddf-4f50-a0b5-3e5b46dfa62c",
        "outputId": "d1115bd3-bcc7-49f5-b4bd-7b9abdc43318"
      },
      "cell_type": "code",
      "id": "d192a012-0ddf-4f50-a0b5-3e5b46dfa62c",
      "execution_count": 10,
      "outputs": [
        {
          "output_type": "stream",
          "name": "stdout",
          "text": [
            "        state  family_members\n",
            "0     Alabama           864.0\n",
            "1      Alaska           582.0\n",
            "2     Arizona          2606.0\n",
            "3    Arkansas           432.0\n",
            "4  California         20964.0\n"
          ]
        }
      ]
    },
    {
      "source": [
        "Create a DataFrame called ind_state that contains the individuals and state columns of homelessness, in that order.\n",
        "\n",
        "Print the head of the result."
      ],
      "metadata": {
        "id": "8aaa0592-7434-4695-9e4a-72f43527c223"
      },
      "cell_type": "markdown",
      "id": "8aaa0592-7434-4695-9e4a-72f43527c223"
    },
    {
      "source": [
        "# Select only the individuals and state columns, in that order\n",
        "ind_state = homelessness[[\"individuals\",\"state\"]]\n",
        "\n",
        "# Print the head of the result\n",
        "print(ind_state.head())"
      ],
      "metadata": {
        "executionTime": 134,
        "lastSuccessfullyExecutedCode": "# Select only the individuals and state columns, in that order\nind_state = homelessness[[\"individuals\",\"state\"]]\n\n# Print the head of the result\nprint(ind_state.head())",
        "colab": {
          "base_uri": "https://localhost:8080/"
        },
        "id": "bd98acb9-3f99-4910-94c9-518d418450df",
        "outputId": "8b7c657b-b32c-4d6f-f4fc-a9933136b3fc"
      },
      "cell_type": "code",
      "id": "bd98acb9-3f99-4910-94c9-518d418450df",
      "execution_count": 11,
      "outputs": [
        {
          "output_type": "stream",
          "name": "stdout",
          "text": [
            "   individuals       state\n",
            "0       2570.0     Alabama\n",
            "1       1434.0      Alaska\n",
            "2       7259.0     Arizona\n",
            "3       2280.0    Arkansas\n",
            "4     109008.0  California\n"
          ]
        }
      ]
    },
    {
      "source": [
        "## Subsetting rows"
      ],
      "metadata": {
        "id": "a1f7f5fd-479c-439d-bc5c-10c031eb0c8b"
      },
      "cell_type": "markdown",
      "id": "a1f7f5fd-479c-439d-bc5c-10c031eb0c8b"
    },
    {
      "source": [
        "A large part of data science is about finding which bits of your dataset are interesting. One of the simplest techniques for this is to find a subset of rows that match some criteria. This is sometimes known as filtering rows or selecting rows.\n",
        "\n",
        "\n",
        "There are many ways to subset a DataFrame, perhaps the most common is to use relational operators to return True or False for each row, then pass that inside square brackets.\n",
        "\n",
        "\n",
        "dogs[dogs[\"height_cm\"] > 60]\n",
        "\n",
        "dogs[dogs[\"color\"] == \"tan\"]\n",
        "\n",
        "You can filter for multiple conditions at once by using the \"bitwise and\" operator, &.\n",
        "\n",
        "\n",
        "dogs[(dogs[\"height_cm\"] > 60) & (dogs[\"color\"] == \"tan\")]\n",
        "\n",
        "homelessness is available and pandas is loaded as pd."
      ],
      "metadata": {
        "id": "14b061bd-77e0-4ec7-b798-7ebf04396330"
      },
      "cell_type": "markdown",
      "id": "14b061bd-77e0-4ec7-b798-7ebf04396330"
    },
    {
      "source": [
        "Filter homelessness for cases where the number of individuals is greater than ten thousand, assigning to ind_gt_10k. \n",
        "View the printed result."
      ],
      "metadata": {
        "id": "a19ebfd5-998b-4d51-a03a-273996b7f962"
      },
      "cell_type": "markdown",
      "id": "a19ebfd5-998b-4d51-a03a-273996b7f962"
    },
    {
      "source": [
        "# Filter for rows where individuals is greater than 10000\n",
        "ind_gt_10k = homelessness[homelessness[\"individuals\"] > 10000]\n",
        "\n",
        "# See the result\n",
        "print(ind_gt_10k)"
      ],
      "metadata": {
        "executionTime": 20,
        "lastSuccessfullyExecutedCode": "# Filter for rows where individuals is greater than 10000\nind_gt_10k = homelessness[homelessness[\"individuals\"] > 10000]\n\n# See the result\nprint(ind_gt_10k)",
        "colab": {
          "base_uri": "https://localhost:8080/"
        },
        "id": "70fa0c49-9b73-4155-917d-8339c0ac337f",
        "outputId": "f385abe6-faea-4d7f-e6b3-c507dbb5f42d"
      },
      "cell_type": "code",
      "id": "70fa0c49-9b73-4155-917d-8339c0ac337f",
      "execution_count": 12,
      "outputs": [
        {
          "output_type": "stream",
          "name": "stdout",
          "text": [
            "                region       state  individuals  family_members  state_pop\n",
            "4              Pacific  California     109008.0         20964.0   39461588\n",
            "9       South Atlantic     Florida      21443.0          9587.0   21244317\n",
            "32        Mid-Atlantic    New York      39827.0         52070.0   19530351\n",
            "37             Pacific      Oregon      11139.0          3337.0    4181886\n",
            "43  West South Central       Texas      19199.0          6111.0   28628666\n",
            "47             Pacific  Washington      16424.0          5880.0    7523869\n"
          ]
        }
      ]
    },
    {
      "source": [
        "Filter homelessness for cases where the USA Census region is \"Mountain\", assigning to mountain_reg. View the printed result."
      ],
      "metadata": {
        "id": "e1817bae-6c96-4ed2-9395-996c0a01a633"
      },
      "cell_type": "markdown",
      "id": "e1817bae-6c96-4ed2-9395-996c0a01a633"
    },
    {
      "source": [
        "# Filter for rows where region is Mountain\n",
        "mountain_reg = homelessness[homelessness[\"region\"] == \"Mountain\"]\n",
        "\n",
        "# See the result\n",
        "print(mountain_reg)"
      ],
      "metadata": {
        "executionTime": 24,
        "lastSuccessfullyExecutedCode": "# Filter for rows where region is Mountain\nmountain_reg = homelessness[homelessness[\"region\"] == \"Mountain\"]\n\n# See the result\nprint(mountain_reg)",
        "colab": {
          "base_uri": "https://localhost:8080/"
        },
        "id": "5f00b34b-01de-443f-b5a0-ca4f6a99a697",
        "outputId": "934e76c5-a2c0-4af2-ff32-02f55aae4375"
      },
      "cell_type": "code",
      "id": "5f00b34b-01de-443f-b5a0-ca4f6a99a697",
      "execution_count": 13,
      "outputs": [
        {
          "output_type": "stream",
          "name": "stdout",
          "text": [
            "      region       state  individuals  family_members  state_pop\n",
            "2   Mountain     Arizona       7259.0          2606.0    7158024\n",
            "5   Mountain    Colorado       7607.0          3250.0    5691287\n",
            "12  Mountain       Idaho       1297.0           715.0    1750536\n",
            "26  Mountain     Montana        983.0           422.0    1060665\n",
            "28  Mountain      Nevada       7058.0           486.0    3027341\n",
            "31  Mountain  New Mexico       1949.0           602.0    2092741\n",
            "44  Mountain        Utah       1904.0           972.0    3153550\n",
            "50  Mountain     Wyoming        434.0           205.0     577601\n"
          ]
        }
      ]
    },
    {
      "source": [
        "Filter homelessness for cases where the number of family_members is less than one thousand and the region is \"Pacific\", assigning to fam_lt_1k_pac. View the printed result."
      ],
      "metadata": {
        "id": "fb459628-6b6b-4e83-9a9e-b95c022e966e"
      },
      "cell_type": "markdown",
      "id": "fb459628-6b6b-4e83-9a9e-b95c022e966e"
    },
    {
      "source": [
        "# Filter for rows where family_members is less than 1000 \n",
        "# and region is Pacific\n",
        "\n",
        "fam_lt_1k_pac = homelessness[(homelessness[\"family_members\"]<1000) & (homelessness['region']==\"Pacific\")]\n",
        "\n",
        "# See the result\n",
        "print(fam_lt_1k_pac)"
      ],
      "metadata": {
        "executionTime": 155,
        "lastSuccessfullyExecutedCode": "# Filter for rows where family_members is less than 1000 \n# and region is Pacific\n\nfam_lt_1k_pac = homelessness[(homelessness[\"family_members\"]<1000) & (homelessness['region']==\"Pacific\")]\n\n# See the result\nprint(fam_lt_1k_pac)",
        "colab": {
          "base_uri": "https://localhost:8080/"
        },
        "id": "faa9285d-ebfd-4d72-9b5b-8c7868cedfbd",
        "outputId": "6480de8c-429e-45ef-cf1b-8ecbdd87f19f"
      },
      "cell_type": "code",
      "id": "faa9285d-ebfd-4d72-9b5b-8c7868cedfbd",
      "execution_count": 14,
      "outputs": [
        {
          "output_type": "stream",
          "name": "stdout",
          "text": [
            "    region   state  individuals  family_members  state_pop\n",
            "1  Pacific  Alaska       1434.0           582.0     735139\n"
          ]
        }
      ]
    },
    {
      "source": [
        "## Subsetting rows by categorical variables"
      ],
      "metadata": {
        "id": "8b2f6bd3-0900-4081-9493-f8319cb0bb0c"
      },
      "cell_type": "markdown",
      "id": "8b2f6bd3-0900-4081-9493-f8319cb0bb0c"
    },
    {
      "source": [
        "Filter homelessness for cases where the USA census region is \"South Atlantic\" or it is \"Mid-Atlantic\", assigning to south_mid_atlantic. View the printed result."
      ],
      "metadata": {
        "id": "8af3bb41-d85c-48ba-893a-cde6fea5c223"
      },
      "cell_type": "markdown",
      "id": "8af3bb41-d85c-48ba-893a-cde6fea5c223"
    },
    {
      "source": [
        "**Subsetting data based on a categorical variable often involves using the \"or\" operator (|) to select rows from multiple categories. This can get tedious when you want all states in one of three different regions, for example. Instead, use the .isin() method, which will allow you to tackle this problem by writing one condition instead of three separate ones.**"
      ],
      "metadata": {
        "id": "2f8ac702-c470-4809-a17d-f9f32de77319"
      },
      "cell_type": "markdown",
      "id": "2f8ac702-c470-4809-a17d-f9f32de77319"
    },
    {
      "source": [
        "# Subset for rows in South Atlantic or Mid-Atlantic regions\n",
        "south_mid_atlantic = homelessness[(homelessness[\"region\"] == \"South Atlantic\") | (homelessness[\"region\"] == \"Mid-Atlantic\")]\n",
        "\n",
        "# See the result\n",
        "print(south_mid_atlantic)"
      ],
      "metadata": {
        "executionTime": 16,
        "lastSuccessfullyExecutedCode": "# Subset for rows in South Atlantic or Mid-Atlantic regions\nsouth_mid_atlantic = homelessness[(homelessness[\"region\"] == \"South Atlantic\") | (homelessness[\"region\"] == \"Mid-Atlantic\")]\n\n# See the result\nprint(south_mid_atlantic)",
        "colab": {
          "base_uri": "https://localhost:8080/"
        },
        "id": "71d58bf9-d2cc-4724-9932-80dee1032c00",
        "outputId": "3077319a-595d-45d9-8991-1427679822fc"
      },
      "cell_type": "code",
      "id": "71d58bf9-d2cc-4724-9932-80dee1032c00",
      "execution_count": 15,
      "outputs": [
        {
          "output_type": "stream",
          "name": "stdout",
          "text": [
            "            region                 state  individuals  family_members  \\\n",
            "7   South Atlantic              Delaware        708.0           374.0   \n",
            "8   South Atlantic  District of Columbia       3770.0          3134.0   \n",
            "9   South Atlantic               Florida      21443.0          9587.0   \n",
            "10  South Atlantic               Georgia       6943.0          2556.0   \n",
            "20  South Atlantic              Maryland       4914.0          2230.0   \n",
            "30    Mid-Atlantic            New Jersey       6048.0          3350.0   \n",
            "32    Mid-Atlantic              New York      39827.0         52070.0   \n",
            "33  South Atlantic        North Carolina       6451.0          2817.0   \n",
            "38    Mid-Atlantic          Pennsylvania       8163.0          5349.0   \n",
            "40  South Atlantic        South Carolina       3082.0           851.0   \n",
            "46  South Atlantic              Virginia       3928.0          2047.0   \n",
            "48  South Atlantic         West Virginia       1021.0           222.0   \n",
            "\n",
            "    state_pop  \n",
            "7      965479  \n",
            "8      701547  \n",
            "9    21244317  \n",
            "10   10511131  \n",
            "20    6035802  \n",
            "30    8886025  \n",
            "32   19530351  \n",
            "33   10381615  \n",
            "38   12800922  \n",
            "40    5084156  \n",
            "46    8501286  \n",
            "48    1804291  \n"
          ]
        }
      ]
    },
    {
      "source": [
        "Filter homelessness for cases where the USA census state is in the list of Mojave states, canu, assigning to mojave_homelessness. View the printed result."
      ],
      "metadata": {
        "id": "c4e8cb20-1c2b-479a-9cad-5b3d87c1f8bf"
      },
      "cell_type": "markdown",
      "id": "c4e8cb20-1c2b-479a-9cad-5b3d87c1f8bf"
    },
    {
      "source": [
        "# The Mojave Desert states\n",
        "canu = [\"California\", \"Arizona\", \"Nevada\", \"Utah\"]\n",
        "\n",
        "# Filter for rows in the Mojave Desert states\n",
        "mojave_homelessness = homelessness[homelessness[\"state\"].isin(canu)]\n",
        "\n",
        "# See the result\n",
        "print(mojave_homelessness)"
      ],
      "metadata": {
        "executionTime": 23,
        "lastSuccessfullyExecutedCode": "# The Mojave Desert states\ncanu = [\"California\", \"Arizona\", \"Nevada\", \"Utah\"]\n\n# Filter for rows in the Mojave Desert states\nmojave_homelessness = homelessness[homelessness[\"state\"].isin(canu)]\n\n# See the result\nprint(mojave_homelessness)",
        "colab": {
          "base_uri": "https://localhost:8080/"
        },
        "id": "edde3b40-3392-40fc-adc3-4ac6160e0b7d",
        "outputId": "1ea23a3e-45c2-4d0a-ef86-7615a9080603"
      },
      "cell_type": "code",
      "id": "edde3b40-3392-40fc-adc3-4ac6160e0b7d",
      "execution_count": 16,
      "outputs": [
        {
          "output_type": "stream",
          "name": "stdout",
          "text": [
            "      region       state  individuals  family_members  state_pop\n",
            "2   Mountain     Arizona       7259.0          2606.0    7158024\n",
            "4    Pacific  California     109008.0         20964.0   39461588\n",
            "28  Mountain      Nevada       7058.0           486.0    3027341\n",
            "44  Mountain        Utah       1904.0           972.0    3153550\n"
          ]
        }
      ]
    },
    {
      "source": [
        "## New columns"
      ],
      "metadata": {
        "id": "f280c93c-24af-49d9-9fc0-f3375ad8daa2"
      },
      "cell_type": "markdown",
      "id": "f280c93c-24af-49d9-9fc0-f3375ad8daa2"
    },
    {
      "source": [
        "Add a new column to homelessness, named total, containing the sum of the individuals and family_members columns.\n",
        "\n",
        "Add another column to homelessness, named p_individuals, containing the proportion of homeless people in each state who are individuals."
      ],
      "metadata": {
        "id": "4a3c2ba6-18a8-48bd-b946-eea3ac9b162e"
      },
      "cell_type": "markdown",
      "id": "4a3c2ba6-18a8-48bd-b946-eea3ac9b162e"
    },
    {
      "source": [
        "# Add total col as sum of individuals and family_members\n",
        "homelessness[\"total\"] =  homelessness[\"individuals\"] + homelessness[\"family_members\"]\n",
        "\n",
        "# Add p_individuals col as proportion of total that are individuals\n",
        "homelessness[\"p_individuals\"] = homelessness[\"individuals\"] / homelessness[\"total\"]\n",
        "\n",
        "# See the result\n",
        "print(homelessness.head())"
      ],
      "metadata": {
        "executionTime": 27,
        "lastSuccessfullyExecutedCode": "# Add total col as sum of individuals and family_members\nhomelessness[\"total\"] =  homelessness[\"individuals\"] + homelessness[\"family_members\"]\n\n# Add p_individuals col as proportion of total that are individuals\nhomelessness[\"p_individuals\"] = homelessness[\"individuals\"] / homelessness[\"total\"]\n\n# See the result\nprint(homelessness.head())",
        "colab": {
          "base_uri": "https://localhost:8080/"
        },
        "id": "6d4446fa-7cc2-47da-8be7-a926d2f1817f",
        "outputId": "59f1d7e7-8d7c-42df-9d6f-430e9aef33ae"
      },
      "cell_type": "code",
      "id": "6d4446fa-7cc2-47da-8be7-a926d2f1817f",
      "execution_count": 17,
      "outputs": [
        {
          "output_type": "stream",
          "name": "stdout",
          "text": [
            "               region       state  individuals  family_members  state_pop  \\\n",
            "0  East South Central     Alabama       2570.0           864.0    4887681   \n",
            "1             Pacific      Alaska       1434.0           582.0     735139   \n",
            "2            Mountain     Arizona       7259.0          2606.0    7158024   \n",
            "3  West South Central    Arkansas       2280.0           432.0    3009733   \n",
            "4             Pacific  California     109008.0         20964.0   39461588   \n",
            "\n",
            "      total  p_individuals  \n",
            "0    3434.0       0.748398  \n",
            "1    2016.0       0.711310  \n",
            "2    9865.0       0.735834  \n",
            "3    2712.0       0.840708  \n",
            "4  129972.0       0.838704  \n"
          ]
        }
      ]
    },
    {
      "source": [
        "## Combo-attack!"
      ],
      "metadata": {
        "id": "d0458867-5646-4d69-b73d-a64a6cb57007"
      },
      "cell_type": "markdown",
      "id": "d0458867-5646-4d69-b73d-a64a6cb57007"
    },
    {
      "source": [
        "You've seen the four most common types of data manipulation: sorting rows, subsetting columns, subsetting rows, and adding new columns. In a real-life data analysis, you can mix and match these four manipulations to answer a multitude of questions.\n",
        "\n",
        "In this exercise, you'll answer the question, \"Which state has the highest number of homeless individuals per 10,000 people in the state?\" Combine your new pandas skills to find out."
      ],
      "metadata": {
        "id": "09126711-dd5c-4c56-af63-f293332f05b1"
      },
      "cell_type": "markdown",
      "id": "09126711-dd5c-4c56-af63-f293332f05b1"
    },
    {
      "source": [
        "Add a column to homelessness, indiv_per_10k, containing the number of homeless individuals per ten thousand people in each state.\n",
        "\n",
        "Subset rows where indiv_per_10k is higher than 20, assigning to high_homelessness.\n",
        "\n",
        "Sort high_homelessness by descending indiv_per_10k, assigning to high_homelessness_srt.\n",
        "\n",
        "Select only the state and indiv_per_10k columns of high_homelessness_srt and save as result. Look at the result."
      ],
      "metadata": {
        "id": "abf9788f-3cf5-41d7-9b10-1473db3595f3"
      },
      "cell_type": "markdown",
      "id": "abf9788f-3cf5-41d7-9b10-1473db3595f3"
    },
    {
      "source": [
        "# Create indiv_per_10k col as homeless individuals per 10k state pop\n",
        "homelessness[\"indiv_per_10k\"] = 10000 * homelessness[\"individuals\"] / homelessness[\"state_pop\"] \n",
        "\n",
        "# Subset rows for indiv_per_10k greater than 20\n",
        "high_homelessness = homelessness[homelessness[\"indiv_per_10k\"] >20]\n",
        "\n",
        "# Sort high_homelessness by descending indiv_per_10k\n",
        "high_homelessness_srt = high_homelessness.sort_values(\"indiv_per_10k\", ascending = False)\n",
        "\n",
        "# From high_homelessness_srt, select the state and indiv_per_10k cols\n",
        "result = high_homelessness_srt[[\"state\",\"indiv_per_10k\"]]\n",
        "\n",
        "# See the result\n",
        "print(result.head())"
      ],
      "metadata": {
        "executionTime": 43,
        "lastSuccessfullyExecutedCode": "# Create indiv_per_10k col as homeless individuals per 10k state pop\nhomelessness[\"indiv_per_10k\"] = 10000 * homelessness[\"individuals\"] / homelessness[\"state_pop\"] \n\n# Subset rows for indiv_per_10k greater than 20\nhigh_homelessness = homelessness[homelessness[\"indiv_per_10k\"] >20]\n\n# Sort high_homelessness by descending indiv_per_10k\nhigh_homelessness_srt = high_homelessness.sort_values(\"indiv_per_10k\", ascending = False)\n\n# From high_homelessness_srt, select the state and indiv_per_10k cols\nresult = high_homelessness_srt[[\"state\",\"indiv_per_10k\"]]\n\n# See the result\nprint(result.head())",
        "colab": {
          "base_uri": "https://localhost:8080/"
        },
        "id": "af5e3f4a-4db8-4eab-8f35-724dd30cf4ee",
        "outputId": "ac7efe2a-e3ed-4904-c86b-55f65a6193d8"
      },
      "cell_type": "code",
      "id": "af5e3f4a-4db8-4eab-8f35-724dd30cf4ee",
      "execution_count": 18,
      "outputs": [
        {
          "output_type": "stream",
          "name": "stdout",
          "text": [
            "                   state  indiv_per_10k\n",
            "8   District of Columbia      53.738381\n",
            "11                Hawaii      29.079406\n",
            "4             California      27.623825\n",
            "37                Oregon      26.636307\n",
            "28                Nevada      23.314189\n"
          ]
        }
      ]
    }
  ],
  "metadata": {
    "language_info": {
      "name": "python",
      "version": "3.8.10",
      "mimetype": "text/x-python",
      "codemirror_mode": {
        "name": "ipython",
        "version": 3
      },
      "pygments_lexer": "ipython3",
      "nbconvert_exporter": "python",
      "file_extension": ".py"
    },
    "kernelspec": {
      "display_name": "Python 3 (ipykernel)",
      "language": "python",
      "name": "python3"
    },
    "editor": "DataCamp Workspace",
    "colab": {
      "provenance": [],
      "include_colab_link": true
    }
  },
  "nbformat": 4,
  "nbformat_minor": 5
}